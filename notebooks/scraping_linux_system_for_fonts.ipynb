{
 "cells": [
  {
   "cell_type": "code",
   "execution_count": 1,
   "metadata": {},
   "outputs": [],
   "source": [
    "# Here we will scrape our own linux system for fonts\n",
    "# This was written on a Ubuntu 22.04 system\n",
    "import os\n",
    "import re\n",
    "import shutil\n"
   ]
  },
  {
   "cell_type": "code",
   "execution_count": null,
   "metadata": {},
   "outputs": [],
   "source": [
    "\n",
    "# folder_list = [\"/usr/share/fonts\",\n",
    "#                \"/usr/local/share/fonts\"]\n",
    "# getting all folders in root\n",
    "folder_list = os.listdir(\"/\")\n",
    "# excluding mnt\n",
    "folder_list = [folder for folder in folder_list if folder != \"mnt\"] # now want to crawl trough 5TB windows folders\n",
    "# absolute paths\n",
    "folder_list = [os.path.join(\"/\", folder) for folder in folder_list]\n",
    "\n",
    "font_types = [\".ttf\", \".otf\", \".pfb\", \".woff\", \".woff2\"]    \n",
    "\n",
    "# Now we crawl the folders and subfolders and copy the fonts to a new folder\n",
    "path_destination = \"../data/raw/linux_fonts/\"\n",
    "if not os.path.exists(path_destination):\n",
    "    os.makedirs(path_destination)\n",
    "\n",
    "path_repository = os.path.abspath(os.path.join(os.getcwd(), os.pardir))\n",
    "forbidden_folders = [path_repository, \n",
    "                     path_destination,\n",
    "                     os.path.abspath(\"/mnt\")] # now want to crawl trough 5TB windows folders\n",
    "\n",
    "folders_with_fonts = set()\n",
    "for folder in folder_list:\n",
    "    for root, dirs, files in os.walk(folder, ):\n",
    "        # Jump out if the folder is forbidden!\n",
    "        if any([forbidden_folder in root for forbidden_folder in forbidden_folders]):\n",
    "            continue\n",
    "        for file in files:\n",
    "            if file.endswith(tuple(font_types)):\n",
    "                if root not in folders_with_fonts:\n",
    "                    print(f\"Copying fonts from {root}\")\n",
    "                    folders_with_fonts.add(root)\n",
    "                path_source = os.path.join(root, file)\n",
    "                try:\n",
    "                    shutil.copy(path_source, path_destination)\n",
    "                except:\n",
    "                    pass"
   ]
  },
  {
   "cell_type": "code",
   "execution_count": null,
   "metadata": {},
   "outputs": [],
   "source": []
  }
 ],
 "metadata": {
  "kernelspec": {
   "display_name": "dsr-13sep",
   "language": "python",
   "name": "python3"
  },
  "language_info": {
   "codemirror_mode": {
    "name": "ipython",
    "version": 3
   },
   "file_extension": ".py",
   "mimetype": "text/x-python",
   "name": "python",
   "nbconvert_exporter": "python",
   "pygments_lexer": "ipython3",
   "version": "3.10.12"
  }
 },
 "nbformat": 4,
 "nbformat_minor": 2
}
