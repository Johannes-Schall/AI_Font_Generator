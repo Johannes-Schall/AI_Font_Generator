{
 "cells": [
  {
   "cell_type": "code",
   "execution_count": 2,
   "metadata": {},
   "outputs": [],
   "source": [
    "import sys\n",
    "sys.path.append('../')"
   ]
  },
  {
   "cell_type": "code",
   "execution_count": 5,
   "metadata": {},
   "outputs": [],
   "source": [
    "import json\n",
    "import os\n",
    "from src.data import fontdb_handler as fh\n",
    "from src.data import global_consts as g\n",
    "from src.data import classifier as cl"
   ]
  },
  {
   "cell_type": "code",
   "execution_count": 17,
   "metadata": {},
   "outputs": [
    {
     "name": "stdout",
     "output_type": "stream",
     "text": [
      "145 101\n",
      "Fehlend in JS.json: {'..\\\\data\\\\raw\\\\DSRFontsDB\\\\DB5\\\\Euroika_Bold.ttf', '..\\\\data\\\\raw\\\\glyphazzn\\\\FlakeAnfang.TTF', '..\\\\data\\\\raw\\\\DSRFontsDB\\\\DB5\\\\VAG_Rounded_Black.ttf', '..\\\\data\\\\raw\\\\DSRFontsDB\\\\DB5\\\\MACHINE.TTF', '..\\\\data\\\\raw\\\\glyphazzn\\\\ringlet-regular.ttf', '..\\\\data\\\\raw\\\\glyphazzn\\\\Dited.otf', '..\\\\data\\\\raw\\\\glyphazzn\\\\tingle.ttf', '..\\\\data\\\\raw\\\\glyphazzn\\\\FONTCOII.ttf', '..\\\\data\\\\raw\\\\glyphazzn\\\\FugueDemBol.ttf', '..\\\\data\\\\raw\\\\DSRFontsDB\\\\DB5\\\\GRIDO___.TTF', '..\\\\data\\\\raw\\\\DSRFontsDB\\\\DB5\\\\pf_tempesta_five_bold.ttf', '..\\\\data\\\\raw\\\\DSRFontsDB\\\\DB5\\\\phoenixamerican-regular.ttf', '..\\\\data\\\\raw\\\\DSRFontsDB\\\\DB5\\\\Marfhaus.TTF', '..\\\\data\\\\raw\\\\DSRFontsDB\\\\DB5\\\\deadhistorybold.ttf', '..\\\\data\\\\raw\\\\DSRFontsDB\\\\DB5\\\\bits__charter_bold-italic.ttf', '..\\\\data\\\\raw\\\\DSRFontsDB\\\\DB5\\\\SuehirogariOutline.TTF', '..\\\\data\\\\raw\\\\glyphazzn\\\\Squareroque.otf', '..\\\\data\\\\raw\\\\DSRFontsDB\\\\DB5\\\\D3ConcretismB.TTF', '..\\\\data\\\\raw\\\\glyphazzn\\\\muriel_regular.ttf', '..\\\\data\\\\raw\\\\DSRFontsDB\\\\DB5\\\\GalileoFLF-BoldItalic.ttf', '..\\\\data\\\\raw\\\\glyphazzn\\\\pf_tempesta_seven_compressed_bold.ttf', '..\\\\data\\\\raw\\\\DSRFontsDB\\\\DB5\\\\peasarahloo.ttf', '..\\\\data\\\\raw\\\\DSRFontsDB\\\\DB5\\\\ScalaSansLF-Caps.ttf', '..\\\\data\\\\raw\\\\DSRFontsDB\\\\DB5\\\\ScalaSansLF-CapsItalic.ttf', '..\\\\data\\\\raw\\\\DSRFontsDB\\\\DB5\\\\MazamaRegular.ttf', '..\\\\data\\\\raw\\\\DSRFontsDB\\\\DB5\\\\Samba.otf', '..\\\\data\\\\raw\\\\DSRFontsDB\\\\DB5\\\\ritafurey-bolditalic.ttf', '..\\\\data\\\\raw\\\\glyphazzn\\\\SKRYT___.TTF', '..\\\\data\\\\raw\\\\DSRFontsDB\\\\DB5\\\\HandSkriptOne.ttf', '..\\\\data\\\\raw\\\\DSRFontsDB\\\\DB5\\\\Metropol-Noir.ttf', '..\\\\data\\\\raw\\\\DSRFontsDB\\\\DB5\\\\BRIDIE__.TTF', '..\\\\data\\\\raw\\\\DSRFontsDB\\\\DB5\\\\nukunuku.ttf', '..\\\\data\\\\raw\\\\glyphazzn\\\\arenzi.ttf', '..\\\\data\\\\raw\\\\DSRFontsDB\\\\DB5\\\\anne_wadhams.ttf', '..\\\\data\\\\raw\\\\DSRFontsDB\\\\DB5\\\\broadway_bold.ttf', '..\\\\data\\\\raw\\\\glyphazzn\\\\Midiet_Serif_Medium.ttf', '..\\\\data\\\\raw\\\\DSRFontsDB\\\\DB5\\\\pea_protani.ttf', '..\\\\data\\\\raw\\\\glyphazzn\\\\tatida_Rocking.ttf', '..\\\\data\\\\raw\\\\DSRFontsDB\\\\DB5\\\\Blair_ITC_Bold1.ttf', '..\\\\data\\\\raw\\\\DSRFontsDB\\\\DB5\\\\Ritafurey-Bold.ttf', '..\\\\data\\\\raw\\\\DSRFontsDB\\\\DB5\\\\Pea_Jane_In_A_Hurry.ttf', '..\\\\data\\\\raw\\\\glyphazzn\\\\SERIBL__.ttf', '..\\\\data\\\\raw\\\\glyphazzn\\\\lower_face.ttf', '..\\\\data\\\\raw\\\\glyphazzn\\\\B0bmono.TTF', '..\\\\data\\\\raw\\\\DSRFontsDB\\\\DB5\\\\ambrosia.ttf', '..\\\\data\\\\raw\\\\DSRFontsDB\\\\DB5\\\\bastard.ttf', '..\\\\data\\\\raw\\\\DSRFontsDB\\\\DB5\\\\pea_steph.ttf', '..\\\\data\\\\raw\\\\DSRFontsDB\\\\DB5\\\\dyadis_itc_medium_italic1.ttf', '..\\\\data\\\\raw\\\\DSRFontsDB\\\\DB5\\\\harquil.ttf', '..\\\\data\\\\raw\\\\glyphazzn\\\\9SYSTEMA.TTF', '..\\\\data\\\\raw\\\\DSRFontsDB\\\\DB5\\\\Rubens-Regular.ttf', '..\\\\data\\\\raw\\\\DSRFontsDB\\\\DB5\\\\shark___.ttf', '..\\\\data\\\\raw\\\\DSRFontsDB\\\\DB5\\\\Quincy.ttf', '..\\\\data\\\\raw\\\\glyphazzn\\\\pf_ronda_seven.ttf', '..\\\\data\\\\raw\\\\glyphazzn\\\\PATH1-01.TTF', '..\\\\data\\\\raw\\\\DSRFontsDB\\\\DB5\\\\DaleysGothic-Bold.ttf', '..\\\\data\\\\raw\\\\glyphazzn\\\\pf_tempesta_seven_extended.ttf', '..\\\\data\\\\raw\\\\DSRFontsDB\\\\DB5\\\\REQUIEM-SIMPLEX21.ttf', '..\\\\data\\\\raw\\\\DSRFontsDB\\\\DB5\\\\Eire.ttf', '..\\\\data\\\\raw\\\\glyphazzn\\\\MW_HONE.ttf', '..\\\\data\\\\raw\\\\glyphazzn\\\\zemiakovy_salat_CE.ttf', '..\\\\data\\\\raw\\\\DSRFontsDB\\\\DB5\\\\semaphore.ttf', '..\\\\data\\\\raw\\\\DSRFontsDB\\\\DB5\\\\XYPERFORMULAIC-21SB.ttf', '..\\\\data\\\\raw\\\\DSRFontsDB\\\\DB5\\\\griffin-shaded.ttf', '..\\\\data\\\\raw\\\\DSRFontsDB\\\\DB5\\\\wexfordoakley-regular.ttf', '..\\\\data\\\\raw\\\\DSRFontsDB\\\\DB5\\\\one_regular_ttnorm.ttf', '..\\\\data\\\\raw\\\\DSRFontsDB\\\\DB5\\\\TypoLatinserif-Bold.ttf', '..\\\\data\\\\raw\\\\glyphazzn\\\\banco.ttf', '..\\\\data\\\\raw\\\\DSRFontsDB\\\\DB5\\\\urwgaramondtdemwid.ttf', '..\\\\data\\\\raw\\\\DSRFontsDB\\\\DB5\\\\EMBLEM.TTF', '..\\\\data\\\\raw\\\\DSRFontsDB\\\\DB5\\\\wade.ttf', '..\\\\data\\\\raw\\\\DSRFontsDB\\\\DB5\\\\lame_dude.ttf', '..\\\\data\\\\raw\\\\DSRFontsDB\\\\DB5\\\\peakarenscript.ttf', '..\\\\data\\\\raw\\\\DSRFontsDB\\\\DB5\\\\foonky-heavy.ttf', '..\\\\data\\\\raw\\\\glyphazzn\\\\peaheather.ttf', '..\\\\data\\\\raw\\\\DSRFontsDB\\\\DB5\\\\Tagdoc93.ttf', '..\\\\data\\\\raw\\\\glyphazzn\\\\KleinSlabserifBlaxX.ttf', '..\\\\data\\\\raw\\\\glyphazzn\\\\petiote.ttf', '..\\\\data\\\\raw\\\\DSRFontsDB\\\\DB5\\\\sodascriptboldextras.ttf', '..\\\\data\\\\raw\\\\glyphazzn\\\\salmiak.ttf', '..\\\\data\\\\raw\\\\DSRFontsDB\\\\DB5\\\\KABOB.TTF', '..\\\\data\\\\raw\\\\glyphazzn\\\\sgiv1mediumcapsnum.ttf', '..\\\\data\\\\raw\\\\DSRFontsDB\\\\DB5\\\\Motorcity.ttf', '..\\\\data\\\\raw\\\\DSRFontsDB\\\\DB5\\\\meta_black_lf_caps_italic.ttf', '..\\\\data\\\\raw\\\\glyphazzn\\\\SensoryInput.ttf', '..\\\\data\\\\raw\\\\glyphazzn\\\\BAUHOUSE.TTF', '..\\\\data\\\\raw\\\\DSRFontsDB\\\\DB5\\\\Moving_Out_1.ttf', '..\\\\data\\\\raw\\\\glyphazzn\\\\SCSSTI.TTF', '..\\\\data\\\\raw\\\\DSRFontsDB\\\\DB5\\\\Barbedor_T_Regular.ttf', '..\\\\data\\\\raw\\\\DSRFontsDB\\\\DB5\\\\BodoniAntTDemBol.ttf', '..\\\\data\\\\raw\\\\DSRFontsDB\\\\DB5\\\\Pea_Jamie.ttf', '..\\\\data\\\\raw\\\\DSRFontsDB\\\\DB5\\\\KARATE.TTF', '..\\\\data\\\\raw\\\\DSRFontsDB\\\\DB5\\\\Griffin-DynamoCapitals.ttf', '..\\\\data\\\\raw\\\\DSRFontsDB\\\\DB5\\\\bordello-bolditalic.ttf', '..\\\\data\\\\raw\\\\DSRFontsDB\\\\DB5\\\\SpaceCowboy.ttf', '..\\\\data\\\\raw\\\\DSRFontsDB\\\\DB5\\\\Kizer_Regular_ttnorm.ttf', '..\\\\data\\\\raw\\\\glyphazzn\\\\FSB0KSA_.TTF', '..\\\\data\\\\raw\\\\glyphazzn\\\\Dismembered_by_F0t0_GraFFix.ttf', '..\\\\data\\\\raw\\\\DSRFontsDB\\\\DB5\\\\Simplex.ttf', '..\\\\data\\\\raw\\\\DSRFontsDB\\\\DB5\\\\RhapsodieSwashCaps-Normal.ttf', '..\\\\data\\\\raw\\\\DSRFontsDB\\\\DB5\\\\Foonky-Starred.ttf', '..\\\\data\\\\raw\\\\glyphazzn\\\\Stylin___BRK_Font_by_beraka.ttf', '..\\\\data\\\\raw\\\\DSRFontsDB\\\\DB5\\\\Arabia_Plain.ttf', '..\\\\data\\\\raw\\\\glyphazzn\\\\hedemo__.ttf', '..\\\\data\\\\raw\\\\DSRFontsDB\\\\DB5\\\\oxford_bold.ttf', '..\\\\data\\\\raw\\\\glyphazzn\\\\Buckingham%20Light.ttf', '..\\\\data\\\\raw\\\\glyphazzn\\\\KIMONOK_.ttf', '..\\\\data\\\\raw\\\\glyphazzn\\\\TALOS___.TTF', '..\\\\data\\\\raw\\\\DSRFontsDB\\\\DB5\\\\GrillSans.TTF', '..\\\\data\\\\raw\\\\DSRFontsDB\\\\DB5\\\\Pixel_Cyr.TTF', '..\\\\data\\\\raw\\\\DSRFontsDB\\\\DB5\\\\plastic.ttf', '..\\\\data\\\\raw\\\\DSRFontsDB\\\\DB5\\\\Bailey_Sans_ITC_Bold_Italic1.ttf', '..\\\\data\\\\raw\\\\DSRFontsDB\\\\DB5\\\\bodoni_six_itc_bold_italic1.ttf', '..\\\\data\\\\raw\\\\DSRFontsDB\\\\DB5\\\\Grock-Regular.ttf', '..\\\\data\\\\raw\\\\glyphazzn\\\\Amature_Circus.ttf', '..\\\\data\\\\raw\\\\DSRFontsDB\\\\DB5\\\\ROTRI___.TTF', '..\\\\data\\\\raw\\\\DSRFontsDB\\\\DB5\\\\Reasonist-Medium.ttf', '..\\\\data\\\\raw\\\\DSRFontsDB\\\\DB5\\\\esperanto.ttf', '..\\\\data\\\\raw\\\\DSRFontsDB\\\\DB5\\\\ghosttown_bc.ttf', '..\\\\data\\\\raw\\\\glyphazzn\\\\NewZurica%20Bold.ttf', '..\\\\data\\\\raw\\\\glyphazzn\\\\MYNDRAIN.TTF', '..\\\\data\\\\raw\\\\glyphazzn\\\\telegren.ttf', '..\\\\data\\\\raw\\\\DSRFontsDB\\\\DB5\\\\berlinsans-lightexpert.ttf', '..\\\\data\\\\raw\\\\DSRFontsDB\\\\DB5\\\\bretagne.ttf', '..\\\\data\\\\raw\\\\DSRFontsDB\\\\DB5\\\\Pointened.TTF', '..\\\\data\\\\raw\\\\DSRFontsDB\\\\DB5\\\\tulipa-regular.ttf', '..\\\\data\\\\raw\\\\DSRFontsDB\\\\DB5\\\\daleysgothic-black.ttf', '..\\\\data\\\\raw\\\\DSRFontsDB\\\\DB5\\\\pea_johanna.ttf', '..\\\\data\\\\raw\\\\DSRFontsDB\\\\DB5\\\\regulator-thinitalic.ttf', '..\\\\data\\\\raw\\\\DSRFontsDB\\\\DB5\\\\waverley_bold_italic.ttf', '..\\\\data\\\\raw\\\\DSRFontsDB\\\\DB5\\\\nimbussanno5tmed.ttf', '..\\\\data\\\\raw\\\\DSRFontsDB\\\\DB5\\\\isolde.ttf', '..\\\\data\\\\raw\\\\DSRFontsDB\\\\DB5\\\\rocket_script.ttf', '..\\\\data\\\\raw\\\\DSRFontsDB\\\\DB5\\\\happyloverstown.eu-lovershand.otf', '..\\\\data\\\\raw\\\\glyphazzn\\\\Zapper__.ttf', '..\\\\data\\\\raw\\\\DSRFontsDB\\\\DB5\\\\CARROT__.TTF', '..\\\\data\\\\raw\\\\DSRFontsDB\\\\DB5\\\\Lapidary_333_BT.ttf', '..\\\\data\\\\raw\\\\glyphazzn\\\\bemtutmed.ttf', '..\\\\data\\\\raw\\\\DSRFontsDB\\\\DB5\\\\barbedor_sc_t_regular.ttf', '..\\\\data\\\\raw\\\\DSRFontsDB\\\\DB5\\\\DroneBold.ttf', '..\\\\data\\\\raw\\\\DSRFontsDB\\\\DB5\\\\Equinox_ICG.ttf', '..\\\\data\\\\raw\\\\DSRFontsDB\\\\DB5\\\\GalileoFLF-Italic.ttf', '..\\\\data\\\\raw\\\\DSRFontsDB\\\\DB5\\\\brainhead.ttf', '..\\\\data\\\\raw\\\\DSRFontsDB\\\\DB5\\\\Berlinsans-Demi.ttf', '..\\\\data\\\\raw\\\\DSRFontsDB\\\\DB5\\\\bodonianttdembol_italic.ttf'}\n",
      "Fehlend in json_original: {'..\\\\data\\\\raw\\\\glyphazzn\\\\REQUIEM-SIMPLEX21.ttf', '..\\\\data\\\\raw\\\\glyphazzn\\\\one_regular_ttnorm.ttf', '..\\\\data\\\\raw\\\\glyphazzn\\\\meta_black_lf_caps_italic.ttf', '..\\\\data\\\\raw\\\\glyphazzn\\\\EMBLEM.TTF', '..\\\\data\\\\raw\\\\glyphazzn\\\\BRIDIE__.TTF', '..\\\\data\\\\raw\\\\glyphazzn\\\\wade.ttf', '..\\\\data\\\\raw\\\\glyphazzn\\\\bodoni_six_itc_bold_italic1.ttf', '..\\\\data\\\\raw\\\\glyphazzn\\\\isolde.ttf', '..\\\\data\\\\raw\\\\glyphazzn\\\\XYPERFORMULAIC-21SB.ttf', '..\\\\data\\\\raw\\\\glyphazzn\\\\waverley_bold_italic.ttf', '..\\\\data\\\\raw\\\\glyphazzn\\\\plastic.ttf', '..\\\\data\\\\raw\\\\glyphazzn\\\\Berlinsans-Demi.ttf', '..\\\\data\\\\raw\\\\glyphazzn\\\\happyloverstown.eu-lovershand.otf', '..\\\\data\\\\raw\\\\glyphazzn\\\\GalileoFLF-BoldItalic.ttf', '..\\\\data\\\\raw\\\\glyphazzn\\\\Equinox_ICG.ttf', '..\\\\data\\\\raw\\\\glyphazzn\\\\Grock-Regular.ttf', '..\\\\data\\\\raw\\\\glyphazzn\\\\broadway_bold.ttf', '..\\\\data\\\\raw\\\\glyphazzn\\\\Reasonist-Medium.ttf', '..\\\\data\\\\raw\\\\glyphazzn\\\\Foonky-Starred.ttf', '..\\\\data\\\\raw\\\\glyphazzn\\\\tulipa-regular.ttf', '..\\\\data\\\\raw\\\\glyphazzn\\\\BodoniAntTDemBol.ttf', '..\\\\data\\\\raw\\\\glyphazzn\\\\Moving_Out_1.ttf', '..\\\\data\\\\raw\\\\glyphazzn\\\\anne_wadhams.ttf', '..\\\\data\\\\raw\\\\glyphazzn\\\\pf_tempesta_five_bold.ttf', '..\\\\data\\\\raw\\\\glyphazzn\\\\Simplex.ttf', '..\\\\data\\\\raw\\\\glyphazzn\\\\bordello-bolditalic.ttf', '..\\\\data\\\\raw\\\\glyphazzn\\\\HandSkriptOne.ttf', '..\\\\data\\\\raw\\\\glyphazzn\\\\VAG_Rounded_Black.ttf', '..\\\\data\\\\raw\\\\glyphazzn\\\\Griffin-DynamoCapitals.ttf', '..\\\\data\\\\raw\\\\glyphazzn\\\\Ritafurey-Bold.ttf', '..\\\\data\\\\raw\\\\glyphazzn\\\\griffin-shaded.ttf', '..\\\\data\\\\raw\\\\glyphazzn\\\\nimbussanno5tmed.ttf', '..\\\\data\\\\raw\\\\glyphazzn\\\\KABOB.TTF', '..\\\\data\\\\raw\\\\glyphazzn\\\\Marfhaus.TTF', '..\\\\data\\\\raw\\\\glyphazzn\\\\pea_protani.ttf', '..\\\\data\\\\raw\\\\glyphazzn\\\\Pea_Jamie.ttf', '..\\\\data\\\\raw\\\\glyphazzn\\\\Euroika_Bold.ttf', '..\\\\data\\\\raw\\\\glyphazzn\\\\SpaceCowboy.ttf', '..\\\\data\\\\raw\\\\glyphazzn\\\\Blair_ITC_Bold1.ttf', '..\\\\data\\\\raw\\\\glyphazzn\\\\bretagne.ttf', '..\\\\data\\\\raw\\\\glyphazzn\\\\CARROT__.TTF', '..\\\\data\\\\raw\\\\glyphazzn\\\\D3ConcretismB.TTF', '..\\\\data\\\\raw\\\\glyphazzn\\\\Pea_Jane_In_A_Hurry.ttf', '..\\\\data\\\\raw\\\\glyphazzn\\\\oxford_bold.ttf', '..\\\\data\\\\raw\\\\glyphazzn\\\\ScalaSansLF-CapsItalic.ttf', '..\\\\data\\\\raw\\\\glyphazzn\\\\peakarenscript.ttf', '..\\\\data\\\\raw\\\\glyphazzn\\\\GRIDO___.TTF', '..\\\\data\\\\raw\\\\glyphazzn\\\\berlinsans-lightexpert.ttf', '..\\\\data\\\\raw\\\\glyphazzn\\\\Kizer_Regular_ttnorm.ttf', '..\\\\data\\\\raw\\\\glyphazzn\\\\deadhistorybold.ttf', '..\\\\data\\\\raw\\\\glyphazzn\\\\GalileoFLF-Italic.ttf', '..\\\\data\\\\raw\\\\glyphazzn\\\\ScalaSansLF-Caps.ttf', '..\\\\data\\\\raw\\\\glyphazzn\\\\foonky-heavy.ttf', '..\\\\data\\\\raw\\\\glyphazzn\\\\regulator-thinitalic.ttf', '..\\\\data\\\\raw\\\\glyphazzn\\\\bastard.ttf', '..\\\\data\\\\raw\\\\glyphazzn\\\\lame_dude.ttf', '..\\\\data\\\\raw\\\\glyphazzn\\\\bits__charter_bold-italic.ttf', '..\\\\data\\\\raw\\\\glyphazzn\\\\DaleysGothic-Bold.ttf', '..\\\\data\\\\raw\\\\glyphazzn\\\\shark___.ttf', '..\\\\data\\\\raw\\\\glyphazzn\\\\brainhead.ttf', '..\\\\data\\\\raw\\\\glyphazzn\\\\urwgaramondtdemwid.ttf', '..\\\\data\\\\raw\\\\glyphazzn\\\\bodonianttdembol_italic.ttf', '..\\\\data\\\\raw\\\\glyphazzn\\\\harquil.ttf', '..\\\\data\\\\raw\\\\glyphazzn\\\\SuehirogariOutline.TTF', '..\\\\data\\\\raw\\\\glyphazzn\\\\pea_steph.ttf', '..\\\\data\\\\raw\\\\glyphazzn\\\\Bailey_Sans_ITC_Bold_Italic1.ttf', '..\\\\data\\\\raw\\\\glyphazzn\\\\DroneBold.ttf', '..\\\\data\\\\raw\\\\glyphazzn\\\\ROTRI___.TTF', '..\\\\data\\\\raw\\\\glyphazzn\\\\Quincy.ttf', '..\\\\data\\\\raw\\\\glyphazzn\\\\Lapidary_333_BT.ttf', '..\\\\data\\\\raw\\\\glyphazzn\\\\Tagdoc93.ttf', '..\\\\data\\\\raw\\\\glyphazzn\\\\nukunuku.ttf', '..\\\\data\\\\raw\\\\glyphazzn\\\\dyadis_itc_medium_italic1.ttf', '..\\\\data\\\\raw\\\\glyphazzn\\\\Rubens-Regular.ttf', '..\\\\data\\\\raw\\\\glyphazzn\\\\Arabia_Plain.ttf', '..\\\\data\\\\raw\\\\glyphazzn\\\\RhapsodieSwashCaps-Normal.ttf', '..\\\\data\\\\raw\\\\glyphazzn\\\\peasarahloo.ttf', '..\\\\data\\\\raw\\\\glyphazzn\\\\semaphore.ttf', '..\\\\data\\\\raw\\\\glyphazzn\\\\Metropol-Noir.ttf', '..\\\\data\\\\raw\\\\glyphazzn\\\\Motorcity.ttf', '..\\\\data\\\\raw\\\\glyphazzn\\\\pea_johanna.ttf', '..\\\\data\\\\raw\\\\glyphazzn\\\\esperanto.ttf', '..\\\\data\\\\raw\\\\glyphazzn\\\\Barbedor_T_Regular.ttf', '..\\\\data\\\\raw\\\\glyphazzn\\\\ghosttown_bc.ttf', '..\\\\data\\\\raw\\\\glyphazzn\\\\MACHINE.TTF', '..\\\\data\\\\raw\\\\glyphazzn\\\\wexfordoakley-regular.ttf', '..\\\\data\\\\raw\\\\glyphazzn\\\\daleysgothic-black.ttf', '..\\\\data\\\\raw\\\\glyphazzn\\\\TypoLatinserif-Bold.ttf', '..\\\\data\\\\raw\\\\glyphazzn\\\\MazamaRegular.ttf', '..\\\\data\\\\raw\\\\glyphazzn\\\\KARATE.TTF', '..\\\\data\\\\raw\\\\glyphazzn\\\\Pointened.TTF', '..\\\\data\\\\raw\\\\glyphazzn\\\\barbedor_sc_t_regular.ttf', '..\\\\data\\\\raw\\\\glyphazzn\\\\ritafurey-bolditalic.ttf', '..\\\\data\\\\raw\\\\glyphazzn\\\\rocket_script.ttf', '..\\\\data\\\\raw\\\\glyphazzn\\\\Samba.otf', '..\\\\data\\\\raw\\\\glyphazzn\\\\GrillSans.TTF', '..\\\\data\\\\raw\\\\glyphazzn\\\\Pixel_Cyr.TTF', '..\\\\data\\\\raw\\\\glyphazzn\\\\Eire.ttf', '..\\\\data\\\\raw\\\\glyphazzn\\\\phoenixamerican-regular.ttf', '..\\\\data\\\\raw\\\\glyphazzn\\\\sodascriptboldextras.ttf', '..\\\\data\\\\raw\\\\glyphazzn\\\\ambrosia.ttf'}\n"
     ]
    }
   ],
   "source": [
    "def normalize_path(path):\n",
    "    return os.path.normpath(path)\n",
    "\n",
    "def write_to_json(file, data):\n",
    "    with open(file, 'w') as f:\n",
    "        json.dump(data, f, indent=4)\n",
    "\n",
    "def compare_json_files(file1, file2):\n",
    "    with open(file1, 'r') as f:\n",
    "        data1 = json.load(f)\n",
    "    with open(file2, 'r') as f:\n",
    "        data2 = json.load(f)\n",
    "\n",
    "    paths1 = set(normalize_path(path) for path in data1.keys())\n",
    "    paths2 = set(normalize_path(path) for path in data2.keys())\n",
    "\n",
    "    missing_in_file2 = paths1 - paths2\n",
    "    missing_in_file1 = paths2 - paths1\n",
    "\n",
    "    return missing_in_file2, missing_in_file1\n",
    "\n",
    "# Setze die Namen deiner Dateien hier ein\n",
    "file1 = g.PATH_TO_JSON_FONT_DB\n",
    "file2 = 'JS_db.json'\n",
    "\n",
    "missing_in_JS, missing_in_original = compare_json_files(file1, file2)\n",
    "\n",
    "# Schreibe die fehlenden Pfade in separate JSON-Dateien\n",
    "#write_to_json('missing_JS.json', list(missing_in_JS))\n",
    "#write_to_json('missing_CBN.json', list(missing_in_original))\n",
    "\n",
    "print(len(missing_in_JS), len(missing_in_original))\n",
    "\n",
    "print(\"Fehlend in JS.json:\", missing_in_JS)\n",
    "print(\"Fehlend in json_original:\", missing_in_original)\n"
   ]
  },
  {
   "cell_type": "code",
   "execution_count": 16,
   "metadata": {},
   "outputs": [],
   "source": [
    "import json\n",
    "import os\n",
    "import shutil\n",
    "\n",
    "def load_json(file_path):\n",
    "    with open(file_path, 'r') as file:\n",
    "        return json.load(file)\n",
    "\n",
    "def copy_files(json_data, destination_base_path='DB5'):\n",
    "    if not os.path.exists(destination_base_path):\n",
    "        os.makedirs(destination_base_path)\n",
    "\n",
    "    for full_path in json_data:\n",
    "        try:\n",
    "            destination_path = os.path.join(destination_base_path, os.path.basename(full_path))\n",
    "            shutil.copy(full_path, destination_path)\n",
    "        except FileNotFoundError:\n",
    "            print(f\"Datei nicht gefunden: {full_path}\")\n",
    "        except Exception as e:\n",
    "            print(f\"Fehler beim Kopieren der Datei {full_path}: {e}\")\n",
    "\n",
    "# Setze hier den Pfad zu deiner JSON-Datei ein\n",
    "json_file_path = 'missing_JS.json'\n",
    "\n",
    "# Lade die JSON-Datei und kopiere die Dateien in das \"DB5\"-Verzeichnis\n",
    "json_data = load_json(json_file_path)\n",
    "copy_files(json_data)\n"
   ]
  },
  {
   "cell_type": "code",
   "execution_count": null,
   "metadata": {},
   "outputs": [],
   "source": []
  },
  {
   "cell_type": "code",
   "execution_count": 24,
   "metadata": {},
   "outputs": [
    {
     "name": "stdout",
     "output_type": "stream",
     "text": [
      "719\n"
     ]
    }
   ],
   "source": [
    "\n",
    "#path_clip = os.path.join(g.PATH_RAW, 'clip.json')\n",
    "path_clip ='../data/raw/clip.json'\n",
    "with open(path_clip, 'r', encoding='utf-8') as jsonfile:\n",
    "    old_data = json.load(jsonfile)\n",
    "\n",
    "path_to_valid_fonts = fh.font_file_list()\n",
    "\n",
    "new_fonts= []\n",
    "for font in path_to_valid_fonts:\n",
    "    if font not in old_data.keys():\n",
    "        new_fonts.append(font)\n",
    "        \n",
    "print(len(new_fonts))"
   ]
  },
  {
   "cell_type": "code",
   "execution_count": 25,
   "metadata": {},
   "outputs": [
    {
     "name": "stderr",
     "output_type": "stream",
     "text": [
      "100%|██████████| 45/45 [05:20<00:00,  7.12s/it]\n"
     ]
    }
   ],
   "source": [
    "CLIP_result = cl.evaluate_image(new_fonts, 'ß')"
   ]
  },
  {
   "cell_type": "code",
   "execution_count": 26,
   "metadata": {},
   "outputs": [],
   "source": [
    "# Store result of clip filter in seperate json file\n",
    "import json\n",
    "import os\n",
    "\n",
    "path_clip = os.path.join(g.PATH_RAW, 'clip_new.json')\n",
    "with open(path_clip, 'w', encoding='utf-8') as jsonfile:\n",
    "    json.dump(CLIP_result, jsonfile, indent=4)"
   ]
  },
  {
   "cell_type": "code",
   "execution_count": 27,
   "metadata": {},
   "outputs": [
    {
     "name": "stdout",
     "output_type": "stream",
     "text": [
      "26917\n",
      "26198\n",
      "719\n"
     ]
    }
   ],
   "source": [
    "# Merge files\n",
    "\n",
    "with open(os.path.join(g.PATH_RAW, 'clip.json'), 'r') as f:\n",
    "    data_main = json.load(f)\n",
    "    \n",
    "with open(os.path.join(g.PATH_RAW, 'clip_new.json'), 'r') as f:\n",
    "    data_new = json.load(f)\n",
    "    \n",
    "data_total = {}\n",
    "\n",
    "for key in data_main.keys():\n",
    "    data_total[key] = data_main[key]\n",
    "    \n",
    "for key in data_new.keys():\n",
    "    if key not in data_total.keys():\n",
    "        data_total[key] = data_new[key]\n",
    "        \n",
    "print(len(data_total.keys()))\n",
    "print(len(data_main.keys()))\n",
    "print(len(data_new.keys()))\n",
    "\n",
    "with open(os.path.join(g.PATH_RAW, 'clip_total.json'), 'w') as f:\n",
    "    json.dump(data_total, f, indent=4)\n"
   ]
  },
  {
   "cell_type": "code",
   "execution_count": 30,
   "metadata": {},
   "outputs": [
    {
     "name": "stdout",
     "output_type": "stream",
     "text": [
      "Datei gelöscht: ..\\data\\raw\\glyphazzn\\SERIBL__.ttf\n",
      "Datei gelöscht: ..\\data\\raw\\glyphazzn\\FlakeAnfang.TTF\n",
      "Datei gelöscht: ..\\data\\raw\\glyphazzn\\peaheather.ttf\n",
      "Datei gelöscht: ..\\data\\raw\\glyphazzn\\B0bmono.TTF\n",
      "Datei gelöscht: ..\\data\\raw\\glyphazzn\\ringlet-regular.ttf\n",
      "Datei gelöscht: ..\\data\\raw\\glyphazzn\\lower_face.ttf\n",
      "Datei gelöscht: ..\\data\\raw\\glyphazzn\\Dited.otf\n",
      "Datei gelöscht: ..\\data\\raw\\glyphazzn\\tingle.ttf\n",
      "Datei gelöscht: ..\\data\\raw\\glyphazzn\\KleinSlabserifBlaxX.ttf\n",
      "Datei gelöscht: ..\\data\\raw\\glyphazzn\\FONTCOII.ttf\n",
      "Datei gelöscht: ..\\data\\raw\\glyphazzn\\petiote.ttf\n",
      "Datei gelöscht: ..\\data\\raw\\glyphazzn\\FugueDemBol.ttf\n",
      "Datei gelöscht: ..\\data\\raw\\glyphazzn\\Amature_Circus.ttf\n",
      "Datei gelöscht: ..\\data\\raw\\glyphazzn\\salmiak.ttf\n",
      "Datei gelöscht: ..\\data\\raw\\glyphazzn\\sgiv1mediumcapsnum.ttf\n",
      "Datei gelöscht: ..\\data\\raw\\glyphazzn\\9SYSTEMA.TTF\n",
      "Datei gelöscht: ..\\data\\raw\\glyphazzn\\NewZurica%20Bold.ttf\n",
      "Datei gelöscht: ..\\data\\raw\\glyphazzn\\MYNDRAIN.TTF\n",
      "Datei gelöscht: ..\\data\\raw\\glyphazzn\\telegren.ttf\n",
      "Datei gelöscht: ..\\data\\raw\\glyphazzn\\BAUHOUSE.TTF\n",
      "Datei gelöscht: ..\\data\\raw\\glyphazzn\\SensoryInput.ttf\n",
      "Datei gelöscht: ..\\data\\raw\\glyphazzn\\SCSSTI.TTF\n",
      "Datei gelöscht: ..\\data\\raw\\glyphazzn\\pf_ronda_seven.ttf\n",
      "Datei gelöscht: ..\\data\\raw\\glyphazzn\\Squareroque.otf\n",
      "Datei gelöscht: ..\\data\\raw\\glyphazzn\\PATH1-01.TTF\n",
      "Datei gelöscht: ..\\data\\raw\\glyphazzn\\muriel_regular.ttf\n",
      "Datei gelöscht: ..\\data\\raw\\glyphazzn\\FSB0KSA_.TTF\n",
      "Datei gelöscht: ..\\data\\raw\\glyphazzn\\pf_tempesta_seven_compressed_bold.ttf\n",
      "Datei gelöscht: ..\\data\\raw\\glyphazzn\\pf_tempesta_seven_extended.ttf\n",
      "Datei gelöscht: ..\\data\\raw\\glyphazzn\\Dismembered_by_F0t0_GraFFix.ttf\n",
      "Datei gelöscht: ..\\data\\raw\\glyphazzn\\SKRYT___.TTF\n",
      "Datei gelöscht: ..\\data\\raw\\glyphazzn\\MW_HONE.ttf\n",
      "Datei gelöscht: ..\\data\\raw\\glyphazzn\\zemiakovy_salat_CE.ttf\n",
      "Datei gelöscht: ..\\data\\raw\\glyphazzn\\Stylin___BRK_Font_by_beraka.ttf\n",
      "Datei gelöscht: ..\\data\\raw\\glyphazzn\\Zapper__.ttf\n",
      "Datei gelöscht: ..\\data\\raw\\glyphazzn\\arenzi.ttf\n",
      "Datei gelöscht: ..\\data\\raw\\glyphazzn\\hedemo__.ttf\n",
      "Datei gelöscht: ..\\data\\raw\\glyphazzn\\bemtutmed.ttf\n",
      "Datei gelöscht: ..\\data\\raw\\glyphazzn\\Midiet_Serif_Medium.ttf\n",
      "Datei gelöscht: ..\\data\\raw\\glyphazzn\\Buckingham%20Light.ttf\n",
      "Datei gelöscht: ..\\data\\raw\\glyphazzn\\KIMONOK_.ttf\n",
      "Datei gelöscht: ..\\data\\raw\\glyphazzn\\banco.ttf\n",
      "Datei gelöscht: ..\\data\\raw\\glyphazzn\\tatida_Rocking.ttf\n",
      "Datei gelöscht: ..\\data\\raw\\glyphazzn\\TALOS___.TTF\n"
     ]
    }
   ],
   "source": [
    "import json\n",
    "import os\n",
    "\n",
    "def load_json(file_path):\n",
    "    with open(file_path, 'r') as file:\n",
    "        return json.load(file)\n",
    "\n",
    "def delete_files(json_data):\n",
    "    for full_path in json_data:\n",
    "        if os.path.exists(full_path):\n",
    "            try:\n",
    "                os.remove(full_path)\n",
    "                print(f\"Datei gelöscht: {full_path}\")\n",
    "            except Exception as e:\n",
    "                print(f\"Fehler beim Löschen der Datei {full_path}: {e}\")\n",
    "        else:\n",
    "            print(f\"Datei nicht gefunden, kann nicht gelöscht werden: {full_path}\")\n",
    "\n",
    "# Setze hier den Pfad zu deiner JSON-Datei ein\n",
    "json_file_path = 'missing_CBN.json'\n",
    "\n",
    "# Lade die JSON-Datei und lösche die aufgelisteten Dateien\n",
    "json_data = load_json(json_file_path)\n",
    "delete_files(json_data)\n"
   ]
  }
 ],
 "metadata": {
  "kernelspec": {
   "display_name": ".venv",
   "language": "python",
   "name": "python3"
  },
  "language_info": {
   "codemirror_mode": {
    "name": "ipython",
    "version": 3
   },
   "file_extension": ".py",
   "mimetype": "text/x-python",
   "name": "python",
   "nbconvert_exporter": "python",
   "pygments_lexer": "ipython3",
   "version": "3.11.6"
  }
 },
 "nbformat": 4,
 "nbformat_minor": 2
}
