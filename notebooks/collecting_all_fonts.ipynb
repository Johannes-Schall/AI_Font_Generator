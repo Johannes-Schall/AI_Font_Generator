{
 "cells": [
  {
   "cell_type": "code",
   "execution_count": 58,
   "metadata": {},
   "outputs": [],
   "source": [
    "import sys\n",
    "sys.path.append('../')"
   ]
  },
  {
   "cell_type": "code",
   "execution_count": 59,
   "metadata": {},
   "outputs": [
    {
     "name": "stdout",
     "output_type": "stream",
     "text": [
      "The autoreload extension is already loaded. To reload it, use:\n",
      "  %reload_ext autoreload\n"
     ]
    }
   ],
   "source": [
    "# forcing the notebook to reload the modules\n",
    "%load_ext autoreload\n",
    "%autoreload 2"
   ]
  },
  {
   "cell_type": "code",
   "execution_count": 60,
   "metadata": {},
   "outputs": [],
   "source": [
    "from src.data import datacollector as dc\n",
    "from src.data import downloader as dl\n",
    "from src.data import datafilter as df"
   ]
  },
  {
   "cell_type": "code",
   "execution_count": 61,
   "metadata": {},
   "outputs": [],
   "source": [
    "PATH_DB_CONFIGS = '../data/'\n",
    "PATH_URL_LISTS = '../data/raw/url_lists/'\n",
    "PATH_RAW = '../data/raw/'\n",
    "PATH_PROCESSED = '../data/processed/'"
   ]
  },
  {
   "cell_type": "code",
   "execution_count": 62,
   "metadata": {},
   "outputs": [
    {
     "name": "stdout",
     "output_type": "stream",
     "text": [
      "Accessing GoogleFontsDB.\n",
      "3 directories for transfer.\n",
      "Transferring files...\n",
      "File transfer successful\n",
      "Accessing DSRFontsDB.\n",
      "Loaded key for repository access.\n",
      "4 directories for transfer.\n",
      "Transferring files...\n",
      "File transfer successful\n"
     ]
    }
   ],
   "source": [
    "# Download files from Databases\n",
    "GOOGLEFONTSDB = True\n",
    "DSRFONTSDB = True\n",
    "\n",
    "dl.get_font_dbs({\"GoogleFontsDB\" : GOOGLEFONTSDB,\n",
    "              \"DSRFontsDB\" : DSRFONTSDB}, \n",
    "             PATH_DB_CONFIGS,\n",
    "             PATH_RAW)"
   ]
  },
  {
   "cell_type": "code",
   "execution_count": 6,
   "metadata": {},
   "outputs": [
    {
     "name": "stdout",
     "output_type": "stream",
     "text": [
      "glyzphazzn link list updated.\n",
      "glyphazzn_raw.txt successfully extracted.\n",
      "Processing glyphazzn.txt...\n",
      "Checking 66260 URLs...\n"
     ]
    }
   ],
   "source": [
    "# Process link lists, starting with glyphazzn\n",
    "dl.update_glyphazzn_list(PATH_RAW, PATH_URL_LISTS)\n",
    "\n",
    "# Start download. This will take a while! (approx 80 mins for glyphazzn)\n",
    "dl.download_files_from_txts(PATH_URL_LISTS, PATH_RAW)"
   ]
  },
  {
   "cell_type": "code",
   "execution_count": 63,
   "metadata": {},
   "outputs": [
    {
     "name": "stdout",
     "output_type": "stream",
     "text": [
      "Unpacking all zip files...\n",
      "Converting all OTF files to TTF...\n"
     ]
    },
    {
     "ename": "CalledProcessError",
     "evalue": "Command '['python', 'path/to/ttf-converter.py', '--input-dir', '../data/raw/', '--output-dir', '../data/processed/']' returned non-zero exit status 2.",
     "output_type": "error",
     "traceback": [
      "\u001b[1;31m---------------------------------------------------------------------------\u001b[0m",
      "\u001b[1;31mCalledProcessError\u001b[0m                        Traceback (most recent call last)",
      "\u001b[1;32mg:\\AIFontGenerator\\AI_Font_Generator\\notebooks\\collecting_all_fonts.ipynb Cell 7\u001b[0m line \u001b[0;36m5\n\u001b[0;32m      <a href='vscode-notebook-cell:/g%3A/AIFontGenerator/AI_Font_Generator/notebooks/collecting_all_fonts.ipynb#W5sZmlsZQ%3D%3D?line=0'>1</a>\u001b[0m \u001b[39m# Go through all folders of raw database data\u001b[39;00m\n\u001b[0;32m      <a href='vscode-notebook-cell:/g%3A/AIFontGenerator/AI_Font_Generator/notebooks/collecting_all_fonts.ipynb#W5sZmlsZQ%3D%3D?line=1'>2</a>\u001b[0m \u001b[39m# collect all fonts, write description to csv\u001b[39;00m\n\u001b[0;32m      <a href='vscode-notebook-cell:/g%3A/AIFontGenerator/AI_Font_Generator/notebooks/collecting_all_fonts.ipynb#W5sZmlsZQ%3D%3D?line=2'>3</a>\u001b[0m \u001b[39m# dump all files into a single folder\u001b[39;00m\n\u001b[1;32m----> <a href='vscode-notebook-cell:/g%3A/AIFontGenerator/AI_Font_Generator/notebooks/collecting_all_fonts.ipynb#W5sZmlsZQ%3D%3D?line=4'>5</a>\u001b[0m dc\u001b[39m.\u001b[39;49mcollectfonts(PATH_RAW, PATH_PROCESSED)\n",
      "File \u001b[1;32mg:\\AIFontGenerator\\AI_Font_Generator\\notebooks\\..\\src\\data\\datacollector.py:96\u001b[0m, in \u001b[0;36mcollectfonts\u001b[1;34m(source_directory, destination_converted_files)\u001b[0m\n\u001b[0;32m     93\u001b[0m search_zips(source_directory)\n\u001b[0;32m     95\u001b[0m \u001b[39mprint\u001b[39m(\u001b[39m\"\u001b[39m\u001b[39mConverting all OTF files to TTF...\u001b[39m\u001b[39m\"\u001b[39m)\n\u001b[1;32m---> 96\u001b[0m run_ttf_converter(source_directory, destination_converted_files)\n\u001b[0;32m     98\u001b[0m \u001b[39m# Search all folders and subfolders in source directory\u001b[39;00m\n\u001b[0;32m     99\u001b[0m \u001b[39mprint\u001b[39m(\u001b[39m\"\u001b[39m\u001b[39mCollecting fonts...\u001b[39m\u001b[39m\"\u001b[39m)\n",
      "File \u001b[1;32mg:\\AIFontGenerator\\AI_Font_Generator\\notebooks\\..\\src\\data\\datacollector.py:171\u001b[0m, in \u001b[0;36mrun_ttf_converter\u001b[1;34m(input_dir, output_dir)\u001b[0m\n\u001b[0;32m    167\u001b[0m script_path \u001b[39m=\u001b[39m \u001b[39m\"\u001b[39m\u001b[39mpath/to/ttf-converter.py\u001b[39m\u001b[39m\"\u001b[39m\n\u001b[0;32m    169\u001b[0m command \u001b[39m=\u001b[39m [\u001b[39m\"\u001b[39m\u001b[39mpython\u001b[39m\u001b[39m\"\u001b[39m, script_path, \u001b[39m\"\u001b[39m\u001b[39m--input-dir\u001b[39m\u001b[39m\"\u001b[39m, input_dir, \u001b[39m\"\u001b[39m\u001b[39m--output-dir\u001b[39m\u001b[39m\"\u001b[39m, output_dir]\n\u001b[1;32m--> 171\u001b[0m subprocess\u001b[39m.\u001b[39;49mrun(command, check\u001b[39m=\u001b[39;49m\u001b[39mTrue\u001b[39;49;00m)\n",
      "File \u001b[1;32mC:\\Program Files\\WindowsApps\\PythonSoftwareFoundation.Python.3.11_3.11.1776.0_x64__qbz5n2kfra8p0\\Lib\\subprocess.py:571\u001b[0m, in \u001b[0;36mrun\u001b[1;34m(input, capture_output, timeout, check, *popenargs, **kwargs)\u001b[0m\n\u001b[0;32m    569\u001b[0m     retcode \u001b[39m=\u001b[39m process\u001b[39m.\u001b[39mpoll()\n\u001b[0;32m    570\u001b[0m     \u001b[39mif\u001b[39;00m check \u001b[39mand\u001b[39;00m retcode:\n\u001b[1;32m--> 571\u001b[0m         \u001b[39mraise\u001b[39;00m CalledProcessError(retcode, process\u001b[39m.\u001b[39margs,\n\u001b[0;32m    572\u001b[0m                                  output\u001b[39m=\u001b[39mstdout, stderr\u001b[39m=\u001b[39mstderr)\n\u001b[0;32m    573\u001b[0m \u001b[39mreturn\u001b[39;00m CompletedProcess(process\u001b[39m.\u001b[39margs, retcode, stdout, stderr)\n",
      "\u001b[1;31mCalledProcessError\u001b[0m: Command '['python', 'path/to/ttf-converter.py', '--input-dir', '../data/raw/', '--output-dir', '../data/processed/']' returned non-zero exit status 2."
     ]
    }
   ],
   "source": [
    "# Go through all folders of raw database data\n",
    "# collect all fonts, write description to csv\n",
    "# dump all files into a single folder\n",
    "\n",
    "dc.collectfonts(PATH_RAW)\n",
    "\n"
   ]
  },
  {
   "cell_type": "code",
   "execution_count": null,
   "metadata": {},
   "outputs": [],
   "source": [
    "df.filter_fonts(\"../data/processed/all-fonts\", \"../data/processed/filtered-fonts\")"
   ]
  }
 ],
 "metadata": {
  "kernelspec": {
   "display_name": "DSR_FontGeneratorAI",
   "language": "python",
   "name": "python3"
  },
  "language_info": {
   "codemirror_mode": {
    "name": "ipython",
    "version": 3
   },
   "file_extension": ".py",
   "mimetype": "text/x-python",
   "name": "python",
   "nbconvert_exporter": "python",
   "pygments_lexer": "ipython3",
   "version": "3.11.6"
  }
 },
 "nbformat": 4,
 "nbformat_minor": 2
}
