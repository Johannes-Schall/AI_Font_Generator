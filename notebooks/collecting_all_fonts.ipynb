{
 "cells": [
  {
   "cell_type": "code",
   "execution_count": 1,
   "metadata": {},
   "outputs": [],
   "source": [
    "import sys\n",
    "sys.path.append('../')"
   ]
  },
  {
   "cell_type": "code",
   "execution_count": 2,
   "metadata": {},
   "outputs": [],
   "source": [
    "# forcing the notebook to reload the modules\n",
    "%load_ext autoreload\n",
    "%autoreload 2"
   ]
  },
  {
   "cell_type": "code",
   "execution_count": 12,
   "metadata": {},
   "outputs": [],
   "source": [
    "import os\n",
    "from src.data import datacollector as dc\n",
    "from src.data import downloader as dl\n",
    "from src.data import datafilter as df"
   ]
  },
  {
   "cell_type": "code",
   "execution_count": 13,
   "metadata": {},
   "outputs": [],
   "source": [
    "PATH_DB_CONFIGS = '../data/'\n",
    "PATH_URL_LISTS = '../data/raw/url_lists/'\n",
    "PATH_RAW = '../data/raw/'\n",
    "PATH_PROCESSED = '../data/processed/'\n",
    "JSON_FONT_DB = '00dataset.json'"
   ]
  },
  {
   "cell_type": "code",
   "execution_count": 62,
   "metadata": {},
   "outputs": [
    {
     "name": "stdout",
     "output_type": "stream",
     "text": [
      "Accessing GoogleFontsDB.\n",
      "3 directories for transfer.\n",
      "Transferring files...\n",
      "File transfer successful\n",
      "Accessing DSRFontsDB.\n",
      "Loaded key for repository access.\n",
      "4 directories for transfer.\n",
      "Transferring files...\n",
      "File transfer successful\n"
     ]
    }
   ],
   "source": [
    "# Download files from Databases\n",
    "GOOGLEFONTSDB = True\n",
    "DSRFONTSDB = True\n",
    "\n",
    "dl.get_font_dbs({\"GoogleFontsDB\" : GOOGLEFONTSDB,\n",
    "              \"DSRFontsDB\" : DSRFONTSDB}, \n",
    "             PATH_DB_CONFIGS,\n",
    "             PATH_RAW)"
   ]
  },
  {
   "cell_type": "code",
   "execution_count": 6,
   "metadata": {},
   "outputs": [
    {
     "name": "stdout",
     "output_type": "stream",
     "text": [
      "glyzphazzn link list updated.\n",
      "glyphazzn_raw.txt successfully extracted.\n",
      "Processing glyphazzn.txt...\n",
      "Checking 66260 URLs...\n"
     ]
    }
   ],
   "source": [
    "# Process link lists, starting with glyphazzn\n",
    "dl.update_glyphazzn_list(PATH_RAW, PATH_URL_LISTS)\n",
    "\n",
    "# Start download. This will take a while! (approx 80 mins for glyphazzn)\n",
    "dl.download_files_from_txts(PATH_URL_LISTS, PATH_RAW)"
   ]
  },
  {
   "cell_type": "code",
   "execution_count": 41,
   "metadata": {},
   "outputs": [
    {
     "name": "stdout",
     "output_type": "stream",
     "text": [
      "Unpacking all zip files...\n",
      "Collecting fonts...\n",
      "Total files: 61540\n",
      "Fonts files: 50777\n",
      "- TTF files: 40852\n",
      "- OTF files: 9925\n",
      "Usable files: 47891\n"
     ]
    }
   ],
   "source": [
    "# Go through all folders of raw database data\n",
    "# collect all fonts, write description to csv\n",
    "# dump all files into a single folder\n",
    "\n",
    "dc.collectfonts(PATH_RAW)\n",
    "\n"
   ]
  },
  {
   "cell_type": "code",
   "execution_count": 42,
   "metadata": {},
   "outputs": [
    {
     "name": "stderr",
     "output_type": "stream",
     "text": [
      "[autoreload of src.data.fontDB_handler failed: Traceback (most recent call last):\n",
      "  File \"g:\\AIFontGenerator\\.venv\\Lib\\site-packages\\IPython\\extensions\\autoreload.py\", line 276, in check\n",
      "    superreload(m, reload, self.old_objects)\n",
      "  File \"g:\\AIFontGenerator\\.venv\\Lib\\site-packages\\IPython\\extensions\\autoreload.py\", line 475, in superreload\n",
      "    module = reload(module)\n",
      "             ^^^^^^^^^^^^^^\n",
      "  File \"C:\\Program Files\\WindowsApps\\PythonSoftwareFoundation.Python.3.11_3.11.1776.0_x64__qbz5n2kfra8p0\\Lib\\importlib\\__init__.py\", line 168, in reload\n",
      "    raise ModuleNotFoundError(f\"spec not found for the module {name!r}\", name=name)\n",
      "ModuleNotFoundError: spec not found for the module 'src.data.fontDB_handler'\n",
      "]\n",
      "0it [00:00, ?it/s]'created' timestamp seems very low; regarding as unix timestamp\n",
      "404it [00:01, 375.74it/s]'created' timestamp seems very low; regarding as unix timestamp\n",
      "'created' timestamp seems very low; regarding as unix timestamp\n",
      "501it [00:01, 428.81it/s]'created' timestamp seems very low; regarding as unix timestamp\n",
      "545it [00:01, 405.95it/s]'created' timestamp seems very low; regarding as unix timestamp\n",
      "665it [00:01, 365.20it/s]'created' timestamp seems very low; regarding as unix timestamp\n",
      "'created' timestamp seems very low; regarding as unix timestamp\n",
      "'created' timestamp seems very low; regarding as unix timestamp\n",
      "'created' timestamp seems very low; regarding as unix timestamp\n",
      "1567it [00:04, 436.91it/s]'created' timestamp seems very low; regarding as unix timestamp\n",
      "1631it [00:04, 480.99it/s]"
     ]
    },
    {
     "name": "stdout",
     "output_type": "stream",
     "text": [
      "OverflowError: Python int too large to convert to C int\n"
     ]
    },
    {
     "name": "stderr",
     "output_type": "stream",
     "text": [
      "1680it [00:04, 473.25it/s]'created' timestamp out of range; ignoring top bytes\n",
      "1728it [00:04, 400.63it/s]'created' timestamp seems very low; regarding as unix timestamp\n",
      "1916it [00:04, 513.41it/s]'created' timestamp out of range; ignoring top bytes\n",
      "'created' timestamp seems very low; regarding as unix timestamp\n",
      "'created' timestamp seems very low; regarding as unix timestamp\n",
      "1980it [00:04, 546.44it/s]'created' timestamp seems very low; regarding as unix timestamp\n",
      "'created' timestamp seems very low; regarding as unix timestamp\n",
      "2095it [00:05, 537.30it/s]'created' timestamp seems very low; regarding as unix timestamp\n",
      "'modified' timestamp seems very low; regarding as unix timestamp\n",
      "'created' timestamp seems very low; regarding as unix timestamp\n",
      "'modified' timestamp seems very low; regarding as unix timestamp\n",
      "2150it [00:05, 493.17it/s]'created' timestamp out of range; ignoring top bytes\n",
      "'created' timestamp seems very low; regarding as unix timestamp\n",
      "2296it [00:05, 435.36it/s]'created' timestamp out of range; ignoring top bytes\n",
      "'created' timestamp seems very low; regarding as unix timestamp\n",
      "'modified' timestamp out of range; ignoring top bytes\n",
      "'modified' timestamp seems very low; regarding as unix timestamp\n",
      "2341it [00:05, 420.12it/s]cmap subtable is reported as having zero length: platformID 1, platEncID 0, format 0 offset 20. Skipping table.\n",
      "cmap subtable is reported as having zero length: platformID 1, platEncID 0, format 0 offset 20. Skipping table.\n",
      "2426it [00:06, 412.68it/s]'created' timestamp seems very low; regarding as unix timestamp\n",
      "'created' timestamp seems very low; regarding as unix timestamp\n",
      "'created' timestamp seems very low; regarding as unix timestamp\n",
      "'created' timestamp seems very low; regarding as unix timestamp\n",
      "'created' timestamp seems very low; regarding as unix timestamp\n",
      "'created' timestamp seems very low; regarding as unix timestamp\n",
      "'created' timestamp seems very low; regarding as unix timestamp\n",
      "'created' timestamp seems very low; regarding as unix timestamp\n",
      "'created' timestamp seems very low; regarding as unix timestamp\n",
      "'created' timestamp seems very low; regarding as unix timestamp\n",
      "'created' timestamp out of range; ignoring top bytes\n",
      "'created' timestamp seems very low; regarding as unix timestamp\n",
      "2659it [00:06, 436.16it/s]'created' timestamp seems very low; regarding as unix timestamp\n",
      "2707it [00:06, 448.44it/s]cmap subtable is reported as having zero length: platformID 1, platEncID 0, format 0 offset 20. Skipping table.\n",
      "cmap subtable is reported as having zero length: platformID 1, platEncID 0, format 0 offset 20. Skipping table.\n",
      "'created' timestamp seems very low; regarding as unix timestamp\n",
      "'created' timestamp seems very low; regarding as unix timestamp\n",
      "'created' timestamp seems very low; regarding as unix timestamp\n",
      "'modified' timestamp seems very low; regarding as unix timestamp\n",
      "'created' timestamp seems very low; regarding as unix timestamp\n",
      "'modified' timestamp seems very low; regarding as unix timestamp\n",
      "2753it [00:06, 388.86it/s]'created' timestamp seems very low; regarding as unix timestamp\n",
      "'modified' timestamp seems very low; regarding as unix timestamp\n",
      "'created' timestamp seems very low; regarding as unix timestamp\n",
      "'modified' timestamp seems very low; regarding as unix timestamp\n",
      "'created' timestamp seems very low; regarding as unix timestamp\n",
      "'modified' timestamp seems very low; regarding as unix timestamp\n",
      "'created' timestamp seems very low; regarding as unix timestamp\n",
      "'modified' timestamp seems very low; regarding as unix timestamp\n",
      "'created' timestamp seems very low; regarding as unix timestamp\n",
      "'modified' timestamp seems very low; regarding as unix timestamp\n",
      "'created' timestamp seems very low; regarding as unix timestamp\n",
      "'modified' timestamp seems very low; regarding as unix timestamp\n",
      "'created' timestamp seems very low; regarding as unix timestamp\n",
      "'created' timestamp seems very low; regarding as unix timestamp\n",
      "'created' timestamp seems very low; regarding as unix timestamp\n",
      "'created' timestamp seems very low; regarding as unix timestamp\n",
      "2807it [00:06, 427.83it/s]'created' timestamp out of range; ignoring top bytes\n",
      "cmap subtable is reported as having zero length: platformID 1, platEncID 0, format 0 offset 20. Skipping table.\n",
      "cmap subtable is reported as having zero length: platformID 1, platEncID 0, format 0 offset 20. Skipping table.\n",
      "2874it [00:07, 491.13it/s]3 extra bytes in post.stringData array\n",
      "3 extra bytes in post.stringData array\n",
      "3 extra bytes in post.stringData array\n",
      "3 extra bytes in post.stringData array\n",
      "3117it [00:07, 338.78it/s]'created' timestamp seems very low; regarding as unix timestamp\n",
      "3253it [00:08, 329.76it/s]'created' timestamp out of range; ignoring top bytes\n",
      "'modified' timestamp out of range; ignoring top bytes\n",
      "3408it [00:08, 424.68it/s]'created' timestamp seems very low; regarding as unix timestamp\n",
      "3529it [00:08, 501.86it/s]cmap subtable is reported as having zero length: platformID 1, platEncID 0, format 0 offset 20. Skipping table.\n",
      "cmap subtable is reported as having zero length: platformID 1, platEncID 0, format 0 offset 20. Skipping table.\n",
      "3599it [00:08, 557.04it/s]'created' timestamp out of range; ignoring top bytes\n",
      "'created' timestamp seems very low; regarding as unix timestamp\n",
      "'created' timestamp out of range; ignoring top bytes\n",
      "'created' timestamp seems very low; regarding as unix timestamp\n",
      "'created' timestamp out of range; ignoring top bytes\n",
      "'created' timestamp seems very low; regarding as unix timestamp\n",
      "3657it [00:08, 559.59it/s]250 extra bytes in post.stringData array\n",
      "3725it [00:08, 592.83it/s]'created' timestamp seems very low; regarding as unix timestamp\n",
      "'created' timestamp seems very low; regarding as unix timestamp\n",
      "'created' timestamp seems very low; regarding as unix timestamp\n",
      "'created' timestamp seems very low; regarding as unix timestamp\n",
      "3845it [00:09, 523.48it/s]'created' timestamp seems very low; regarding as unix timestamp\n",
      "'modified' timestamp seems very low; regarding as unix timestamp\n",
      "3899it [00:09, 477.30it/s]'created' timestamp seems very low; regarding as unix timestamp\n",
      "3949it [00:09, 460.53it/s]cmap subtable is reported as having zero length: platformID 1, platEncID 0, format 0 offset 20. Skipping table.\n",
      "cmap subtable is reported as having zero length: platformID 1, platEncID 0, format 0 offset 20. Skipping table.\n",
      "4062it [00:09, 507.85it/s]cmap subtable is reported as having zero length: platformID 1, platEncID 0, format 0 offset 20. Skipping table.\n",
      "cmap subtable is reported as having zero length: platformID 1, platEncID 0, format 0 offset 20. Skipping table.\n",
      "'created' timestamp seems very low; regarding as unix timestamp\n",
      "4132it [00:09, 558.92it/s]cmap subtable is reported as having zero length: platformID 1, platEncID 0, format 0 offset 20. Skipping table.\n",
      "cmap subtable is reported as having zero length: platformID 1, platEncID 0, format 0 offset 20. Skipping table.\n",
      "'created' timestamp seems very low; regarding as unix timestamp\n",
      "cmap subtable is reported as having zero length: platformID 1, platEncID 0, format 0 offset 20. Skipping table.\n",
      "cmap subtable is reported as having zero length: platformID 1, platEncID 0, format 0 offset 20. Skipping table.\n",
      "'created' timestamp seems very low; regarding as unix timestamp\n",
      "4313it [00:10, 496.35it/s]234 extra bytes in post.stringData array\n",
      "4478it [00:10, 489.97it/s]cmap subtable is reported as having zero length: platformID 1, platEncID 0, format 0 offset 20. Skipping table.\n",
      "cmap subtable is reported as having zero length: platformID 1, platEncID 0, format 0 offset 20. Skipping table.\n",
      "'created' timestamp seems very low; regarding as unix timestamp\n",
      "'created' timestamp seems very low; regarding as unix timestamp\n",
      "'created' timestamp seems very low; regarding as unix timestamp\n",
      "'created' timestamp seems very low; regarding as unix timestamp\n",
      "4529it [00:10, 461.90it/s]2 extra bytes in post.stringData array\n",
      "4592it [00:10, 505.85it/s]57 extra bytes in post.stringData array\n",
      "2 extra bytes in post.stringData array\n",
      "cmap subtable is reported as having zero length: platformID 1, platEncID 0, format 0 offset 20. Skipping table.\n",
      "cmap subtable is reported as having zero length: platformID 1, platEncID 0, format 0 offset 20. Skipping table.\n",
      "4960it [00:11, 480.59it/s]2 extra bytes in post.stringData array\n",
      "5010it [00:11, 322.91it/s]10 extra bytes in post.stringData array\n",
      "5548it [00:13, 352.54it/s]2 extra bytes in post.stringData array\n",
      "5730it [00:13, 411.06it/s]2 extra bytes in post.stringData array\n",
      "5865it [00:14, 428.45it/s]10 extra bytes in post.stringData array\n",
      "3 extra bytes in post.stringData array\n",
      "6159it [00:14, 315.15it/s]not enough data in post.stringData array\n",
      "6211it [00:15, 362.84it/s]3 extra bytes in post.stringData array\n",
      "6350it [00:15, 394.26it/s]2 extra bytes in post.stringData array\n",
      "6404it [00:15, 434.50it/s]2 extra bytes in post.stringData array\n",
      "6539it [00:15, 403.39it/s]not enough data in post.stringData array\n",
      "1 extra bytes in post.stringData array\n",
      "6581it [00:15, 398.08it/s]cmap subtable is reported as having zero length: platformID 1, platEncID 0, format 0 offset 20. Skipping table.\n",
      "cmap subtable is reported as having zero length: platformID 1, platEncID 0, format 0 offset 20. Skipping table.\n",
      "6781it [00:16, 433.94it/s]1588 extra bytes in post.stringData array\n",
      "7107it [00:17, 364.01it/s]not enough data in post.stringData array\n",
      "7218it [00:17, 452.06it/s]2 extra bytes in post.stringData array\n",
      "cmap subtable is reported as having zero length: platformID 1, platEncID 0, format 0 offset 20. Skipping table.\n",
      "cmap subtable is reported as having zero length: platformID 1, platEncID 0, format 0 offset 20. Skipping table.\n",
      "7331it [00:17, 499.45it/s]1588 extra bytes in post.stringData array\n",
      "1588 extra bytes in post.stringData array\n",
      "7383it [00:17, 456.41it/s]cmap subtable is reported as having zero length: platformID 1, platEncID 0, format 0 offset 20. Skipping table.\n",
      "cmap subtable is reported as having zero length: platformID 1, platEncID 0, format 0 offset 20. Skipping table.\n",
      "7433it [00:17, 466.22it/s]2 extra bytes in post.stringData array\n",
      "2 extra bytes in post.stringData array\n",
      "2 extra bytes in post.stringData array\n",
      "7481it [00:17, 464.20it/s]2 extra bytes in post.stringData array\n",
      "not enough data in post.stringData array\n",
      "cmap subtable is reported as having zero length: platformID 1, platEncID 0, format 0 offset 20. Skipping table.\n",
      "cmap subtable is reported as having zero length: platformID 1, platEncID 0, format 0 offset 20. Skipping table.\n",
      "7623it [00:18, 432.50it/s]2 extra bytes in post.stringData array\n",
      "7772it [00:18, 463.31it/s]2 extra bytes in post.stringData array\n",
      "2 extra bytes in post.stringData array\n",
      "7841it [00:18, 522.73it/s]Not enough names found in the 'post' table, generating them from cmap instead\n",
      "7895it [00:18, 440.11it/s]1 extra bytes in post.stringData array\n",
      "2 extra bytes in post.stringData array\n",
      "2 extra bytes in post.stringData array\n",
      "7994it [00:19, 460.24it/s]2 extra bytes in post.stringData array\n",
      "8239it [00:19, 460.63it/s]2 extra bytes in post.stringData array\n",
      "8845it [00:21, 421.64it/s]1334 extra bytes in post.stringData array\n",
      "8943it [00:21, 427.24it/s]cmap subtable is reported as having zero length: platformID 1, platEncID 0, format 0 offset 20. Skipping table.\n",
      "cmap subtable is reported as having zero length: platformID 1, platEncID 0, format 0 offset 20. Skipping table.\n",
      "8988it [00:21, 414.08it/s]cmap subtable is reported as having zero length: platformID 1, platEncID 0, format 0 offset 20. Skipping table.\n",
      "cmap subtable is reported as having zero length: platformID 1, platEncID 0, format 0 offset 20. Skipping table.\n"
     ]
    }
   ],
   "source": [
    "df.filter_fonts(path_raw_dir=PATH_RAW, path_font_db_json=os.path.join(PATH_RAW, JSON_FONT_DB))"
   ]
  }
 ],
 "metadata": {
  "kernelspec": {
   "display_name": "DSR_FontGeneratorAI",
   "language": "python",
   "name": "python3"
  },
  "language_info": {
   "codemirror_mode": {
    "name": "ipython",
    "version": 3
   },
   "file_extension": ".py",
   "mimetype": "text/x-python",
   "name": "python",
   "nbconvert_exporter": "python",
   "pygments_lexer": "ipython3",
   "version": "3.11.6"
  }
 },
 "nbformat": 4,
 "nbformat_minor": 2
}
